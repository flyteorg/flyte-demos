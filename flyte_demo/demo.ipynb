{
 "cells": [
  {
   "cell_type": "markdown",
   "metadata": {},
   "source": [
    "# Flyte Demo"
   ]
  },
  {
   "cell_type": "markdown",
   "metadata": {},
   "source": [
    "### Running a Workflow\n",
    "\n",
    "You can use the pre-built image:\n",
    "\n",
    "```\n",
    "export IMAGE='ghcr.io/flyteorg/flyte-demo:latest'\n",
    "```\n",
    "\n",
    "Or if you're using a local Flyte cluster and want to use an image that you\n",
    "built inside it:\n",
    "\n",
    "```\n",
    "export IMAGE='flyte-demo:v1'\n",
    "```\n",
    "\n",
    "The quickest way to run a workflow is with `pyflyte run`:\n",
    "\n",
    "```bash\n",
    "pyflyte run \\\n",
    "    workflows/model_training.py training_workflow \\\n",
    "    --n_epochs 20 \\\n",
    "    --hyperparameters '{\"in_dim\": 4, \"hidden_dim\": 100, \"out_dim\": 3, \"learning_rate\": 0.03}'\n",
    "```\n",
    "\n",
    "This will run in locally. To run it on a Flyte cluster, simply add the `--remote`\n",
    "flag:\n",
    "\n",
    "```bash\n",
    "pyflyte run \\\n",
    "    --remote \\\n",
    "    --image $IMAGE \\\n",
    "    workflows/model_training.py training_workflow \\\n",
    "    --n_epochs 20 \\\n",
    "    --hyperparameters '{\"in_dim\": 4, \"hidden_dim\": 100, \"out_dim\": 3, \"learning_rate\": 0.03}'\n",
    "```"
   ]
  },
  {
   "cell_type": "markdown",
   "metadata": {},
   "source": [
    "#### Registering Your Workflow\n",
    "\n",
    "Once you're happy with the state of your tasks and workflows, you can register\n",
    "them by first packaging them up into a portable flyte archive:\n",
    "\n",
    "```bash\n",
    "pyflyte --pkgs workflows package --force --image $IMAGE -f\n",
    "```\n",
    "\n",
    "This will create a `flyte-package.tgz` archive file that contains the serialized\n",
    "tasks and workflows in this project. Then, you can register it with:\n",
    "\n",
    "```bash\n",
    "flytectl register files --project flytesnacks --domain development --archive flyte-package.tgz --version v0\n",
    "```\n",
    "\n",
    "Now we can go over to https://sandbox.union.ai/console\n",
    "(or http://localhost:30080/console if you're using a local Flyte cluster) to\n",
    "check out the tasks and workflows we just registered."
   ]
  },
  {
   "cell_type": "code",
   "execution_count": null,
   "metadata": {},
   "outputs": [],
   "source": [
    "import torch.nn as nn\n",
    "\n",
    "from flytekit.configuration import Config\n",
    "from flytekit.remote import FlyteRemote\n",
    "from workflows import model_training\n",
    "\n",
    "remote = FlyteRemote(\n",
    "    config=Config.auto(config_file=\"./config-sandbox.yaml\"),\n",
    "    default_project=\"flytesnacks\",\n",
    "    default_domain=\"development\",\n",
    ")\n",
    "execution = remote.execute_local_workflow(\n",
    "    model_training.training_workflow,\n",
    "    inputs={\n",
    "        \"n_epochs\": 30,\n",
    "        \"hyperparameters\": model_training.Hyperparameters(\n",
    "            in_dim=4, hidden_dim=100, out_dim=3, learning_rate=0.01\n",
    "        ),\n",
    "    }\n",
    ")\n",
    "remote.generate_console_url(execution)"
   ]
  },
  {
   "cell_type": "code",
   "execution_count": null,
   "metadata": {},
   "outputs": [],
   "source": [
    "execution = remote.wait(execution)"
   ]
  },
  {
   "cell_type": "code",
   "execution_count": null,
   "metadata": {},
   "outputs": [],
   "source": [
    "clf = execution.outputs.get(\"o0\", as_type=nn.Sequential)\n",
    "clf"
   ]
  },
  {
   "cell_type": "markdown",
   "metadata": {},
   "source": [
    "#### Scheduling Launchplans"
   ]
  },
  {
   "cell_type": "markdown",
   "metadata": {},
   "source": [
    "Activate the schedule:"
   ]
  },
  {
   "cell_type": "code",
   "execution_count": null,
   "metadata": {},
   "outputs": [],
   "source": [
    "lp_id = remote.fetch_launch_plan(name=\"scheduled_training_workflow\").id\n",
    "remote.client.update_launch_plan(lp_id, \"ACTIVE\")\n",
    "print(\"activated training_launchplan\")"
   ]
  },
  {
   "cell_type": "markdown",
   "metadata": {},
   "source": [
    "Get the execution for the most recent schedule run."
   ]
  },
  {
   "cell_type": "code",
   "execution_count": null,
   "metadata": {},
   "outputs": [],
   "source": [
    "recent_executions = [\n",
    "    execution\n",
    "    for execution in remote.recent_executions()\n",
    "    if execution.spec.launch_plan.name == \"scheduled_training_workflow\"\n",
    "]\n",
    "\n",
    "scheduled_execution = None\n",
    "model = None\n",
    "if recent_executions:\n",
    "    scheduled_execution = recent_executions[0]\n",
    "    scheduled_execution = remote.wait(scheduled_execution)\n",
    "    model = scheduled_execution.outputs[\"o0\"]\n",
    "    model\n",
    "\n",
    "print(model)"
   ]
  },
  {
   "cell_type": "markdown",
   "metadata": {},
   "source": [
    "Now deactivate the schedule"
   ]
  },
  {
   "cell_type": "code",
   "execution_count": null,
   "metadata": {},
   "outputs": [],
   "source": [
    "remote.client.update_launch_plan(lp_id, \"INACTIVE\")\n",
    "print(\"deactivated training_launchplan\")"
   ]
  },
  {
   "cell_type": "markdown",
   "metadata": {},
   "source": [
    "#### `pyflyte register`\n",
    "\n",
    "Flyte support rapid iteration during development via \"fast registration\" via\n",
    "`pyflyte register`. This This zips up all of the source code of your Flyte \n",
    "application and bypasses the need to re-build a docker image.\n",
    "\n",
    "```\n",
    "pyflyte register --project flytesnacks --domain development --image $IMAGE workflows\n",
    "```\n",
    "\n",
    "Now go back the Flyte console and take a look at one of the workflows. You'll\n",
    "see our fast-registered version under the **Recent Workflow Versions** panel."
   ]
  }
 ],
 "metadata": {
  "kernelspec": {
   "display_name": "Python 3.9.15 ('flyte-demos')",
   "language": "python",
   "name": "python3"
  },
  "language_info": {
   "codemirror_mode": {
    "name": "ipython",
    "version": 3
   },
   "file_extension": ".py",
   "mimetype": "text/x-python",
   "name": "python",
   "nbconvert_exporter": "python",
   "pygments_lexer": "ipython3",
   "version": "3.9.15"
  },
  "vscode": {
   "interpreter": {
    "hash": "0b40947899547ae63f01fcf78efbaf3c2f46522668cbb4c74a995e0f2137bd8d"
   }
  }
 },
 "nbformat": 4,
 "nbformat_minor": 2
}
