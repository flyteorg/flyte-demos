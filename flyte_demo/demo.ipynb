{
 "cells": [
  {
   "cell_type": "markdown",
   "metadata": {},
   "source": [
    "# Flyte Demo"
   ]
  },
  {
   "cell_type": "markdown",
   "metadata": {},
   "source": [
    "### Running a Workflow\n",
    "\n",
    "The quickest way to run a workflow is with `pyflyte run`\n",
    "\n",
    "```bash\n",
    "pyflyte run \\\n",
    "    workflows/model_training.py training_workflow \\\n",
    "    --n_epochs 20 \\\n",
    "    --hyperparameters '{\"in_dim\": 4, \"hidden_dim\": 100, \"out_dim\": 3, \"learning_rate\": 0.03}'\n",
    "```\n",
    "\n",
    "This will run in locally. To run it on a Flyte cluster, simply add the `--remote`\n",
    "flag:\n",
    "\n",
    "```bash\n",
    "export IMAGE='ghcr.io/flyteorg/flyte-demo:latest'\n",
    "pyflyte run \\\n",
    "    --remote \\\n",
    "    --image $IMAGE \\\n",
    "    workflows/model_training.py training_workflow \\\n",
    "    --n_epochs 20 \\\n",
    "    --hyperparameters '{\"in_dim\": 4, \"hidden_dim\": 100, \"out_dim\": 3, \"learning_rate\": 0.03}'\n",
    "```"
   ]
  },
  {
   "cell_type": "markdown",
   "metadata": {},
   "source": [
    "#### Registering Your Workflow\n",
    "\n",
    "Once you're happy with the state of your tasks and workflows, you can register\n",
    "them by first packaging them up into a portable flyte archive:\n",
    "\n",
    "```bash\n",
    "pyflyte --pkgs workflows package --force --image $IMAGE -f\n",
    "```\n",
    "\n",
    "This will create a `flyte-package.tgz` archive file that contains the serialized\n",
    "tasks and workflows in this project. Then, you can register it with:\n",
    "\n",
    "```bash\n",
    "flytectl register files --project flytesnacks --domain development --archive flyte-package.tgz --version v0\n",
    "```\n",
    "\n",
    "Now we can go over to https://sandbox.union.ai/console\n",
    "(or http://localhost:30080/console if you're using a local Flyte cluster) to\n",
    "check out the tasks and workflows we just registered."
   ]
  },
  {
   "cell_type": "code",
   "execution_count": 3,
   "metadata": {},
   "outputs": [
    {
     "data": {
      "text/plain": [
       "'http://localhost:30080/console/projects/flytesnacks/domains/development/executions/f15653f15a7a2485ca33'"
      ]
     },
     "execution_count": 3,
     "metadata": {},
     "output_type": "execute_result"
    }
   ],
   "source": [
    "from flytekit.configuration import Config\n",
    "from flytekit.remote import FlyteRemote\n",
    "from workflows import model_training\n",
    "\n",
    "remote = FlyteRemote(\n",
    "    config=Config.auto(),\n",
    "    default_project=\"flytesnacks\",\n",
    "    default_domain=\"development\",\n",
    ")\n",
    "execution = remote.execute_local_workflow(\n",
    "    model_training.training_workflow,\n",
    "    inputs={\n",
    "        \"n_epochs\": 30,\n",
    "        \"hyperparameters\": model_training.Hyperparameters(\n",
    "            in_dim=4, hidden_dim=100, out_dim=3, learning_rate=0.01\n",
    "        ),\n",
    "    }\n",
    ")\n",
    "remote.generate_console_url(execution)"
   ]
  },
  {
   "cell_type": "code",
   "execution_count": 4,
   "metadata": {},
   "outputs": [],
   "source": [
    "execution = remote.wait(execution)"
   ]
  },
  {
   "cell_type": "code",
   "execution_count": 6,
   "metadata": {},
   "outputs": [
    {
     "ename": "FlyteAssertion",
     "evalue": "Outputs could not be found because the execution ended in failure.",
     "output_type": "error",
     "traceback": [
      "\u001b[0;31m---------------------------------------------------------------------------\u001b[0m",
      "\u001b[0;31mFlyteAssertion\u001b[0m                            Traceback (most recent call last)",
      "Cell \u001b[0;32mIn[6], line 1\u001b[0m\n\u001b[0;32m----> 1\u001b[0m clf \u001b[39m=\u001b[39m execution\u001b[39m.\u001b[39;49moutputs[\u001b[39m\"\u001b[39m\u001b[39mo0\u001b[39m\u001b[39m\"\u001b[39m]\n\u001b[1;32m      2\u001b[0m clf\n",
      "File \u001b[0;32m~/miniconda3/envs/flyte-demos/lib/python3.9/site-packages/flytekit/remote/executions.py:47\u001b[0m, in \u001b[0;36mRemoteExecutionBase.outputs\u001b[0;34m(self)\u001b[0m\n\u001b[1;32m     43\u001b[0m     \u001b[39mraise\u001b[39;00m user_exceptions\u001b[39m.\u001b[39mFlyteAssertion(\n\u001b[1;32m     44\u001b[0m         \u001b[39m\"\u001b[39m\u001b[39mPlease wait until the execution has completed before requesting the outputs.\u001b[39m\u001b[39m\"\u001b[39m\n\u001b[1;32m     45\u001b[0m     )\n\u001b[1;32m     46\u001b[0m \u001b[39mif\u001b[39;00m \u001b[39mself\u001b[39m\u001b[39m.\u001b[39merror:\n\u001b[0;32m---> 47\u001b[0m     \u001b[39mraise\u001b[39;00m user_exceptions\u001b[39m.\u001b[39mFlyteAssertion(\u001b[39m\"\u001b[39m\u001b[39mOutputs could not be found because the execution ended in failure.\u001b[39m\u001b[39m\"\u001b[39m)\n\u001b[1;32m     49\u001b[0m \u001b[39mreturn\u001b[39;00m \u001b[39mself\u001b[39m\u001b[39m.\u001b[39m_outputs\n",
      "\u001b[0;31mFlyteAssertion\u001b[0m: Outputs could not be found because the execution ended in failure."
     ]
    }
   ],
   "source": [
    "clf = execution.outputs[\"o0\"]\n",
    "clf"
   ]
  },
  {
   "cell_type": "markdown",
   "metadata": {},
   "source": [
    "#### Scheduling Launchplans"
   ]
  },
  {
   "cell_type": "markdown",
   "metadata": {},
   "source": [
    "Activate the schedule:"
   ]
  },
  {
   "cell_type": "code",
   "execution_count": null,
   "metadata": {},
   "outputs": [],
   "source": [
    "lp_id = remote.fetch_launch_plan(name=\"training_launchplan\").id\n",
    "remote.client.update_launch_plan(lp_id, \"ACTIVE\")\n",
    "print(\"activated training_launchplan\")"
   ]
  },
  {
   "cell_type": "markdown",
   "metadata": {},
   "source": [
    "Get the execution for the most recent schedule run."
   ]
  },
  {
   "cell_type": "code",
   "execution_count": null,
   "metadata": {},
   "outputs": [],
   "source": [
    "recent_executions = [\n",
    "    execution\n",
    "    for execution in remote.recent_executions()\n",
    "    if execution.spec.launch_plan.name == \"training_launchplan\"\n",
    "]\n",
    "\n",
    "scheduled_execution = None\n",
    "model = None\n",
    "if recent_executions:\n",
    "    scheduled_execution = recent_executions[0]\n",
    "    scheduled_execution = remote.wait(scheduled_execution)\n",
    "    model = scheduled_execution.outputs[\"o0\"]\n",
    "    model\n",
    "\n",
    "print(model)"
   ]
  },
  {
   "cell_type": "markdown",
   "metadata": {},
   "source": [
    "Now deactivate the schedule"
   ]
  },
  {
   "cell_type": "code",
   "execution_count": null,
   "metadata": {},
   "outputs": [],
   "source": [
    "remote.client.update_launch_plan(lp_id, \"INACTIVE\")\n",
    "print(\"deactivated training_launchplan\")"
   ]
  },
  {
   "cell_type": "markdown",
   "metadata": {},
   "source": [
    "#### `pyflyte register`\n",
    "\n",
    "Flyte support rapid iteration during development via \"fast registration\" via\n",
    "`pyflyte register`. This This zips up all of the source code of your Flyte \n",
    "application and bypasses the need to re-build a docker image.\n",
    "\n",
    "```\n",
    "pyflyte register --project flytesnacks --domain development --image $IMAGE workflows\n",
    "```\n",
    "\n",
    "Now go back the Flyte console and take a look at one of the workflows. You'll\n",
    "see our fast-registered version under the **Recent Workflow Versions** panel."
   ]
  }
 ],
 "metadata": {
  "kernelspec": {
   "display_name": "Python 3.9.15 ('flyte-demos')",
   "language": "python",
   "name": "python3"
  },
  "language_info": {
   "codemirror_mode": {
    "name": "ipython",
    "version": 3
   },
   "file_extension": ".py",
   "mimetype": "text/x-python",
   "name": "python",
   "nbconvert_exporter": "python",
   "pygments_lexer": "ipython3",
   "version": "3.9.15"
  },
  "vscode": {
   "interpreter": {
    "hash": "0b40947899547ae63f01fcf78efbaf3c2f46522668cbb4c74a995e0f2137bd8d"
   }
  }
 },
 "nbformat": 4,
 "nbformat_minor": 2
}
